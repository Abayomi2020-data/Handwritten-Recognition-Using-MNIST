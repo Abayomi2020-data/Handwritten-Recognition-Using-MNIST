{
  "nbformat": 4,
  "nbformat_minor": 0,
  "metadata": {
    "colab": {
      "name": "Handwriting Recognition using Mnist dataset.ipynb",
      "provenance": [],
      "collapsed_sections": []
    },
    "kernelspec": {
      "name": "python3",
      "display_name": "Python 3"
    },
    "language_info": {
      "name": "python"
    }
  },
  "cells": [
    {
      "cell_type": "markdown",
      "source": [
        "## Using keras on MNIST dataset for image processing\n",
        "\n",
        "### Lets start by importing the stuff we need, including the new layer types "
      ],
      "metadata": {
        "id": "OSSeL4ndX7mN"
      }
    },
    {
      "cell_type": "code",
      "execution_count": 2,
      "metadata": {
        "id": "07dTxhL8X4tr"
      },
      "outputs": [],
      "source": [
        "import tensorflow \n",
        "from tensorflow.keras.datasets import mnist\n",
        "from tensorflow.keras.models import Sequential\n",
        "from tensorflow.keras.layers import Dense, Dropout, Conv2D, MaxPooling2D, Flatten\n",
        "from tensorflow.keras.optimizers import RMSprop\n"
      ]
    },
    {
      "cell_type": "markdown",
      "source": [
        "##Loading of the mnist data"
      ],
      "metadata": {
        "id": "YThvsDZUbwrJ"
      }
    },
    {
      "cell_type": "code",
      "source": [
        "(mnist_train_images, mnist_train_labels), (mnist_test_images, mnist_test_labels) = mnist.load_data()"
      ],
      "metadata": {
        "colab": {
          "base_uri": "https://localhost:8080/"
        },
        "id": "aNXqsds5b8EM",
        "outputId": "13bec0e2-bbeb-4b1c-d134-08c3d3b8d04c"
      },
      "execution_count": 3,
      "outputs": [
        {
          "output_type": "stream",
          "name": "stdout",
          "text": [
            "Downloading data from https://storage.googleapis.com/tensorflow/tf-keras-datasets/mnist.npz\n",
            "11493376/11490434 [==============================] - 0s 0us/step\n",
            "11501568/11490434 [==============================] - 0s 0us/step\n"
          ]
        }
      ]
    },
    {
      "cell_type": "markdown",
      "source": [
        "#### The next things is to shape the data differently, since we're treating the data as 2D images of 28 X 28 pixels instead of a flattened stream of 784 pixels. we need to shape it accordingly Depending on the data format keras is set up for this may be 1 x 28 x 28 or 28 x 28 x 1 the 1's indicates a single color channel as this is just grayscale if we were dealing with color images it would be 3 instead of 1 since we'd have red green and blue color channels)"
      ],
      "metadata": {
        "id": "-RfZuQUwche5"
      }
    },
    {
      "cell_type": "code",
      "source": [
        "from tensorflow.keras import backend as k\n",
        "\n",
        "if k.image_data_format() == \"channels_first\":\n",
        "  train_images = mnist_train_images.reshape(mnist_train_images.shape[0], 1, 28, 28)\n",
        "  test_images = mnist_test_images.reshape(mnist_test_images.shape[0], 28, 28)\n",
        "  input_shape = (1, 28, 28)\n",
        "else:\n",
        "  train_images = mnist_train_images.reshape(mnist_train_images.shape[0], 28, 28, 1)\n",
        "  test_images = mnist_test_images.reshape(mnist_test_images.shape[0], 28, 28, 1)\n",
        "  input_shape = (28, 28, 1)\n",
        "\n",
        "  train_images = train_images.astype(\"float32\")\n",
        "  test_images = test_images.astype(\"float32\")\n",
        "  train_images /= 255\n",
        "  test_images /= 255"
      ],
      "metadata": {
        "id": "JrcKtV7bfCk_"
      },
      "execution_count": 4,
      "outputs": []
    },
    {
      "cell_type": "markdown",
      "source": [
        "## I need to convert the train and test labels to be categorical in one-hot format"
      ],
      "metadata": {
        "id": "M1IikIRpktr0"
      }
    },
    {
      "cell_type": "code",
      "source": [
        "train_labels = tensorflow.keras.utils.to_categorical(mnist_train_labels, 10)\n",
        "test_labels = tensorflow.keras.utils.to_categorical(mnist_test_labels, 10)"
      ],
      "metadata": {
        "id": "zYGFPbwmks1Z"
      },
      "execution_count": 5,
      "outputs": []
    },
    {
      "cell_type": "markdown",
      "source": [
        "## As a sanity check let's print out one of the training images with its label"
      ],
      "metadata": {
        "id": "8DDYFtUoiiDm"
      }
    },
    {
      "cell_type": "code",
      "source": [
        "import matplotlib.pyplot as plt\n",
        "\n",
        "\n",
        "def display_sample(num):\n",
        "  #print the one-hot array of this sample's label\n",
        "  print(train_labels[num])\n",
        "  #print the label converted back to a number\n",
        "  label = train_labels[num].argmax(axis=0)\n",
        "  #Reshape the 768 values to a 28X28 image\n",
        "  image = train_images[num].reshape([28, 28])\n",
        "  plt.title(\"Sample: %d Label: %d\" %(num, label))\n",
        "  plt.imshow(image, cmap=plt.get_cmap(\"gray_r\"))\n",
        "  plt.show()\n",
        "\n",
        "display_sample(1234)\n"
      ],
      "metadata": {
        "colab": {
          "base_uri": "https://localhost:8080/",
          "height": 297
        },
        "id": "qp_pQUNtiGED",
        "outputId": "0b36955c-7caf-45e1-870c-16aca878a0ae"
      },
      "execution_count": 6,
      "outputs": [
        {
          "output_type": "stream",
          "name": "stdout",
          "text": [
            "[0. 0. 0. 1. 0. 0. 0. 0. 0. 0.]\n"
          ]
        },
        {
          "output_type": "display_data",
          "data": {
            "image/png": "[encoded data removed]",
            "text/plain": [
              "<Figure size 432x288 with 1 Axes>"
            ]
          },
          "metadata": {
            "needs_background": "light"
          }
        }
      ]
    },
    {
      "cell_type": "markdown",
      "source": [
        "### Now for the meat of the problem. setting up a convolutional neural network involues more layers. Not all of these are strickly necessary, we could run the cell without  pooling and dropout, but those extra steps help avoid overfitting and help things run faster\n",
        "### we'll start with a 2D convolution of the image-it's set up to take 32 windows, or \"filters\", of each image, each filter being 3 X 3 in size\n",
        "### we then run a second convolution on top of that with 64 3X3 windows-this topology is just what comes recommended with keras's own examples. Again we want to re-use previous research whenever possible while tuning CNN's as it is hard to do\n",
        "### Next we apply a Maxpooling2D layer that takes the maximum of each 2X2 result to distill the results down into something more manageable\n",
        "### A dropout filter is then applied to prevent overfitting\n",
        "### Next we flatten the 2D layer we have at this stage into a 1D layer. So at this point we can just pretend we have a traditional multi-layer perceptron\n",
        "### ....and feed that into a hidden, flat layer of 128units\n",
        "### We then apply dropout again to further prevent overfitting\n",
        "### And finally, we feed that into our final 10 units where softmax is apllied to choose our category of 0-9 "
      ],
      "metadata": {
        "id": "3DUNA15xnquT"
      }
    },
    {
      "cell_type": "code",
      "source": [
        "model = Sequential()\n",
        "model.add(Conv2D(32, kernel_size=(3,3),\n",
        "                 activation=\"relu\",\n",
        "                 input_shape=input_shape))\n",
        "# 64 3 X 3 kernels\n",
        "model.add(Conv2D(64, (3,3), activation=\"relu\"))\n",
        "# Reduce by taking the max of each 2 X 2 block\n",
        "model.add(MaxPooling2D(pool_size=(2,2)))\n",
        "#Dropout to avoid overfitting\n",
        "model.add(Dropout(0.25))\n",
        "#Flatten the results to one dimention for passing into our final layer\n",
        "model.add(Flatten())\n",
        "# A hidden layer to learn with\n",
        "model.add(Dense(128, activation=\"relu\"))\n",
        "# Another dropout\n",
        "model.add(Dropout(0.5))\n",
        "#Final categorization from 0-9 with softmax\n",
        "model.add(Dense(10, activation=\"softmax\"))"
      ],
      "metadata": {
        "id": "720ql0xKtJ2D"
      },
      "execution_count": 8,
      "outputs": []
    },
    {
      "cell_type": "markdown",
      "source": [
        "## Checking the model description"
      ],
      "metadata": {
        "id": "yVuKvQnYxieJ"
      }
    },
    {
      "cell_type": "code",
      "source": [
        "model.summary()"
      ],
      "metadata": {
        "colab": {
          "base_uri": "https://localhost:8080/"
        },
        "id": "cAhUD0rsxw6a",
        "outputId": "2ca87717-02df-4f7b-f946-e2e29b5e1940"
      },
      "execution_count": 9,
      "outputs": [
        {
          "output_type": "stream",
          "name": "stdout",
          "text": [
            "Model: \"sequential_1\"\n",
            "_________________________________________________________________\n",
            " Layer (type)                Output Shape              Param #   \n",
            "=================================================================\n",
            " conv2d_2 (Conv2D)           (None, 26, 26, 32)        320       \n",
            "                                                                 \n",
            " conv2d_3 (Conv2D)           (None, 24, 24, 64)        18496     \n",
            "                                                                 \n",
            " max_pooling2d_1 (MaxPooling  (None, 12, 12, 64)       0         \n",
            " 2D)                                                             \n",
            "                                                                 \n",
            " dropout_1 (Dropout)         (None, 12, 12, 64)        0         \n",
            "                                                                 \n",
            " flatten_1 (Flatten)         (None, 9216)              0         \n",
            "                                                                 \n",
            " dense (Dense)               (None, 128)               1179776   \n",
            "                                                                 \n",
            " dropout_2 (Dropout)         (None, 128)               0         \n",
            "                                                                 \n",
            " dense_1 (Dense)             (None, 10)                1290      \n",
            "                                                                 \n",
            "=================================================================\n",
            "Total params: 1,199,882\n",
            "Trainable params: 1,199,882\n",
            "Non-trainable params: 0\n",
            "_________________________________________________________________\n"
          ]
        }
      ]
    },
    {
      "cell_type": "markdown",
      "source": [
        "## We are still doing multiple categorization, so categorical_crossentropy is still the right loss function to use. we'll use the adam optimizer, although the example provided with keras uses RMSprop. we might want to try both if we have time "
      ],
      "metadata": {
        "id": "vOi3m8t2y3oH"
      }
    },
    {
      "cell_type": "code",
      "source": [
        "model.compile(loss=\"categorical_crossentropy\",\n",
        "              optimizer=\"adam\",\n",
        "              metrics=[\"accuracy\"])"
      ],
      "metadata": {
        "id": "apQDivNByDjF"
      },
      "execution_count": 10,
      "outputs": []
    },
    {
      "cell_type": "markdown",
      "source": [
        "### And now we train our model... to make things go a little faster, we'll use batches of 32\n",
        "# Warning\n",
        "### This could take hours to run and computer's CPU will be maxed out during that time! Don't run the next block unless one can tie up computer for a long time. it will print progress as each epoch is run, but each epoch can take around 20 minutes \n"
      ],
      "metadata": {
        "id": "C4CffqYr1Y8G"
      }
    },
    {
      "cell_type": "code",
      "source": [
        "history = model.fit(train_images, train_labels,\n",
        "                    batch_size=32,\n",
        "                    epochs=10,\n",
        "                    verbose=2,\n",
        "                    validation_data=(test_images, test_labels))"
      ],
      "metadata": {
        "colab": {
          "base_uri": "https://localhost:8080/"
        },
        "id": "aHdJRiSi1RqX",
        "outputId": "202d2390-75e1-42d1-9dfb-9b846e93d47d"
      },
      "execution_count": 12,
      "outputs": [
        {
          "output_type": "stream",
          "name": "stdout",
          "text": [
            "Epoch 1/10\n",
            "1875/1875 - 210s - loss: 0.0212 - accuracy: 0.9931 - val_loss: 0.0368 - val_accuracy: 0.9909 - 210s/epoch - 112ms/step\n",
            "Epoch 2/10\n",
            "1875/1875 - 233s - loss: 0.0198 - accuracy: 0.9939 - val_loss: 0.0331 - val_accuracy: 0.9917 - 233s/epoch - 124ms/step\n",
            "Epoch 3/10\n",
            "1875/1875 - 150s - loss: 0.0185 - accuracy: 0.9940 - val_loss: 0.0363 - val_accuracy: 0.9919 - 150s/epoch - 80ms/step\n",
            "Epoch 4/10\n",
            "1875/1875 - 147s - loss: 0.0186 - accuracy: 0.9940 - val_loss: 0.0365 - val_accuracy: 0.9917 - 147s/epoch - 79ms/step\n",
            "Epoch 5/10\n",
            "1875/1875 - 149s - loss: 0.0171 - accuracy: 0.9945 - val_loss: 0.0325 - val_accuracy: 0.9922 - 149s/epoch - 79ms/step\n",
            "Epoch 6/10\n",
            "1875/1875 - 148s - loss: 0.0165 - accuracy: 0.9948 - val_loss: 0.0343 - val_accuracy: 0.9932 - 148s/epoch - 79ms/step\n",
            "Epoch 7/10\n",
            "1875/1875 - 148s - loss: 0.0158 - accuracy: 0.9949 - val_loss: 0.0343 - val_accuracy: 0.9924 - 148s/epoch - 79ms/step\n",
            "Epoch 8/10\n",
            "1875/1875 - 147s - loss: 0.0160 - accuracy: 0.9952 - val_loss: 0.0388 - val_accuracy: 0.9917 - 147s/epoch - 78ms/step\n",
            "Epoch 9/10\n",
            "1875/1875 - 147s - loss: 0.0147 - accuracy: 0.9953 - val_loss: 0.0374 - val_accuracy: 0.9934 - 147s/epoch - 79ms/step\n",
            "Epoch 10/10\n"
          ]
        }
      ]
    },
    {
      "cell_type": "markdown",
      "source": [
        "## The result is actually cool"
      ],
      "metadata": {
        "id": "9yxRhcMi6qjk"
      }
    },
    {
      "cell_type": "code",
      "source": [
        "score = model.evaluate(test_images, test_labels, verbose=0)\n",
        "print(\"Test lost: \", score[0])\n",
        "print(\"Test accuracy: \", score[1])"
      ],
      "metadata": {
        "colab": {
          "base_uri": "https://localhost:8080/"
        },
        "id": "OC3dl0ZGGgUx",
        "outputId": "1fda855b-3d8e-44e2-877c-d3bb051312db"
      },
      "execution_count": 14,
      "outputs": [
        {
          "output_type": "stream",
          "name": "stdout",
          "text": [
            "Test lost:  0.036077726632356644\n",
            "Test accuracy:  0.9918000102043152\n"
          ]
        }
      ]
    },
    {
      "cell_type": "markdown",
      "source": [
        "### Over 99% with just 10 epochs! it came at a significant cost in terms of computing power, but when we start distributing things over multiple computers each with multiple GPU's that cost starts to feel less bad. If you're building something where life and death are on the line like a self-driving car.\n",
        "### Every fraction of a percent matters\n"
      ],
      "metadata": {
        "id": "DL9hERBG7Uvk"
      }
    },
    {
      "cell_type": "code",
      "source": [
        ""
      ],
      "metadata": {
        "id": "lIeFH_g48rpS"
      },
      "execution_count": null,
      "outputs": []
    }
  ]
}